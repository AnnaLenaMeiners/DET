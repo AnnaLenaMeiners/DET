{
 "cells": [
  {
   "cell_type": "markdown",
   "id": "96f12784-57a5-4237-b0ae-c3288946789c",
   "metadata": {},
   "source": [
    "![Logo](Technikklein.png)\n",
    "\n",
    "# Task 11: Decision Trees\n",
    "### Data Science\n",
    "\n",
    "\n",
    "##### Dozent: Prof. Dr. Stefan Edlich\n",
    "##### Medieninformatik\n",
    "##### Hochschule Emden/Leer\n",
    "##### Sommersemester 2021\n",
    "   \n",
    "_____\n"
   ]
  },
  {
   "cell_type": "markdown",
   "id": "df9ced9b-b3e1-4263-8a44-e615f38bbdeb",
   "metadata": {},
   "source": [
    "### Exercise\n",
    "A) Find some data here [1] on people. The goal is to decide if someone buys a computer or not. Derive the best decision tree by calculating a little by hand (Shannon). At least the first split.\n",
    "\n",
    "B) Compare your tree against the tree derived from SciKit Learn as given in the Python example before! Why are they different? Print the tree with Graphviz (can be easily done with WebGraphViz [2])\n",
    "\n",
    "If you run into trouble with encoding, you can also find another dataset which is easier to handle.\n"
   ]
  },
  {
   "cell_type": "markdown",
   "id": "4f9e652a-06dc-4a43-a73a-ede511b0a34d",
   "metadata": {},
   "source": [
    "#### I am going to use the Titanic Test Dataset (from https://www.kaggle.com/c/titanic/overview) to predict if a person would have survived again, since the given data seems to need a lot of work to get it to run.\n",
    "#### We are going to load the training set first."
   ]
  },
  {
   "cell_type": "code",
   "execution_count": 1,
   "id": "6dbe41f1-e203-411b-8555-6234d4a7c66d",
   "metadata": {},
   "outputs": [
    {
     "name": "stdout",
     "output_type": "stream",
     "text": [
      "     PassengerId  Survived  Pclass  \\\n",
      "0              1         0       3   \n",
      "1              2         1       1   \n",
      "2              3         1       3   \n",
      "3              4         1       1   \n",
      "4              5         0       3   \n",
      "..           ...       ...     ...   \n",
      "886          887         0       2   \n",
      "887          888         1       1   \n",
      "888          889         0       3   \n",
      "889          890         1       1   \n",
      "890          891         0       3   \n",
      "\n",
      "                                                  Name     Sex   Age  SibSp  \\\n",
      "0                              Braund, Mr. Owen Harris    male  22.0      1   \n",
      "1    Cumings, Mrs. John Bradley (Florence Briggs Th...  female  38.0      1   \n",
      "2                               Heikkinen, Miss. Laina  female  26.0      0   \n",
      "3         Futrelle, Mrs. Jacques Heath (Lily May Peel)  female  35.0      1   \n",
      "4                             Allen, Mr. William Henry    male  35.0      0   \n",
      "..                                                 ...     ...   ...    ...   \n",
      "886                              Montvila, Rev. Juozas    male  27.0      0   \n",
      "887                       Graham, Miss. Margaret Edith  female  19.0      0   \n",
      "888           Johnston, Miss. Catherine Helen \"Carrie\"  female   NaN      1   \n",
      "889                              Behr, Mr. Karl Howell    male  26.0      0   \n",
      "890                                Dooley, Mr. Patrick    male  32.0      0   \n",
      "\n",
      "     Parch            Ticket     Fare Cabin Embarked  \n",
      "0        0         A/5 21171   7.2500   NaN        S  \n",
      "1        0          PC 17599  71.2833   C85        C  \n",
      "2        0  STON/O2. 3101282   7.9250   NaN        S  \n",
      "3        0            113803  53.1000  C123        S  \n",
      "4        0            373450   8.0500   NaN        S  \n",
      "..     ...               ...      ...   ...      ...  \n",
      "886      0            211536  13.0000   NaN        S  \n",
      "887      0            112053  30.0000   B42        S  \n",
      "888      2        W./C. 6607  23.4500   NaN        S  \n",
      "889      0            111369  30.0000  C148        C  \n",
      "890      0            370376   7.7500   NaN        Q  \n",
      "\n",
      "[891 rows x 12 columns]\n"
     ]
    }
   ],
   "source": [
    "import pandas as pd\n",
    "import numpy as np\n",
    "import matplotlib.pyplot as plot\n",
    "from scipy import stats\n",
    "from sklearn.model_selection import train_test_split\n",
    "\n",
    "data = pd.read_csv(\"train.csv\")\n",
    "\n",
    "df = pd.DataFrame(data)\n",
    "\n",
    "print (df)"
   ]
  },
  {
   "cell_type": "code",
   "execution_count": 2,
   "id": "301eb11c-94eb-4a37-9e67-a59f73285c03",
   "metadata": {},
   "outputs": [
    {
     "name": "stdout",
     "output_type": "stream",
     "text": [
      "<class 'pandas.core.frame.DataFrame'>\n",
      "RangeIndex: 891 entries, 0 to 890\n",
      "Data columns (total 12 columns):\n",
      " #   Column       Non-Null Count  Dtype  \n",
      "---  ------       --------------  -----  \n",
      " 0   PassengerId  891 non-null    int64  \n",
      " 1   Survived     891 non-null    int64  \n",
      " 2   Pclass       891 non-null    int64  \n",
      " 3   Name         891 non-null    object \n",
      " 4   Sex          891 non-null    object \n",
      " 5   Age          714 non-null    float64\n",
      " 6   SibSp        891 non-null    int64  \n",
      " 7   Parch        891 non-null    int64  \n",
      " 8   Ticket       891 non-null    object \n",
      " 9   Fare         891 non-null    float64\n",
      " 10  Cabin        204 non-null    object \n",
      " 11  Embarked     889 non-null    object \n",
      "dtypes: float64(2), int64(5), object(5)\n",
      "memory usage: 83.7+ KB\n"
     ]
    }
   ],
   "source": [
    "df.info()"
   ]
  },
  {
   "cell_type": "markdown",
   "id": "bc9c6988-5e92-42f1-a5ff-3e09a78ade62",
   "metadata": {},
   "source": [
    "#### We are dropping NaNs and String columns to leave a dataset more similar to the one offered in the exercise."
   ]
  },
  {
   "cell_type": "code",
   "execution_count": 3,
   "id": "bc67691a-be35-4f0c-a17c-2c7decaa8057",
   "metadata": {},
   "outputs": [
    {
     "name": "stdout",
     "output_type": "stream",
     "text": [
      "<class 'pandas.core.frame.DataFrame'>\n",
      "Int64Index: 714 entries, 0 to 890\n",
      "Data columns (total 5 columns):\n",
      " #   Column    Non-Null Count  Dtype  \n",
      "---  ------    --------------  -----  \n",
      " 0   Survived  714 non-null    int64  \n",
      " 1   Pclass    714 non-null    int64  \n",
      " 2   Sex       714 non-null    object \n",
      " 3   Age       714 non-null    float64\n",
      " 4   SibSp     714 non-null    int64  \n",
      "dtypes: float64(1), int64(3), object(1)\n",
      "memory usage: 33.5+ KB\n"
     ]
    }
   ],
   "source": [
    "smalldf = df.drop(['PassengerId', 'Name', 'Parch', 'Ticket', 'Fare', 'Cabin', 'Embarked'], axis=1)\n",
    "smalldf = smalldf.dropna()\n",
    "smalldf.info()"
   ]
  },
  {
   "cell_type": "markdown",
   "id": "c9d786e2-3255-40fb-9543-54818c51f865",
   "metadata": {},
   "source": [
    "#### Now, we are going to count how many passengers survived and how many didn't."
   ]
  },
  {
   "cell_type": "code",
   "execution_count": 4,
   "id": "f7070079-8d29-4ea7-ad83-9fba6473327f",
   "metadata": {},
   "outputs": [
    {
     "data": {
      "text/plain": [
       "Survived\n",
       "0    424\n",
       "1    290\n",
       "dtype: int64"
      ]
     },
     "execution_count": 4,
     "metadata": {},
     "output_type": "execute_result"
    }
   ],
   "source": [
    "smalldf.value_counts(subset='Survived')"
   ]
  },
  {
   "cell_type": "code",
   "execution_count": 5,
   "id": "a3314ef4-5d39-4bfb-89bc-f3af3415bbf8",
   "metadata": {},
   "outputs": [
    {
     "data": {
      "text/plain": [
       "Survived\n",
       "0    0.593838\n",
       "1    0.406162\n",
       "dtype: float64"
      ]
     },
     "execution_count": 5,
     "metadata": {},
     "output_type": "execute_result"
    }
   ],
   "source": [
    "smalldf.value_counts(subset='Survived', normalize=True)"
   ]
  },
  {
   "cell_type": "markdown",
   "id": "2fc0253b-323e-4483-8f1a-34c63e2dbfb9",
   "metadata": {},
   "source": [
    "#### Now we can calculate the entropy of the survival."
   ]
  },
  {
   "cell_type": "markdown",
   "id": "361b767f-22eb-4868-b0ea-fdcd914acf98",
   "metadata": {},
   "source": [
    "Entropy(Survival)\n",
    "= Entropy(424, 290)\n",
    "= Entropy(0.59, 0.41)\n",
    "= -(0.59 log2 0.59) - (0.41 log2 0.41)\n",
    "= 0.45 + 0.53\n",
    "= 0.98"
   ]
  },
  {
   "cell_type": "markdown",
   "id": "8a1c852e-e2cf-4f05-b003-2096244d3f73",
   "metadata": {},
   "source": [
    "#### Then we calculate the Entropy for the combinations."
   ]
  },
  {
   "cell_type": "code",
   "execution_count": 6,
   "id": "4660c18f-359e-4f36-b097-011f3e1d57b5",
   "metadata": {},
   "outputs": [
    {
     "data": {
      "text/plain": [
       "Sex\n",
       "male      453\n",
       "female    261\n",
       "dtype: int64"
      ]
     },
     "execution_count": 6,
     "metadata": {},
     "output_type": "execute_result"
    }
   ],
   "source": [
    "smalldf.value_counts(subset='Sex')"
   ]
  },
  {
   "cell_type": "code",
   "execution_count": 7,
   "id": "27555602-fe21-4a03-b938-012b73d1f071",
   "metadata": {},
   "outputs": [
    {
     "data": {
      "text/plain": [
       "Survived\n",
       "1    0.754789\n",
       "0    0.245211\n",
       "dtype: float64"
      ]
     },
     "execution_count": 7,
     "metadata": {},
     "output_type": "execute_result"
    }
   ],
   "source": [
    "femaledf = smalldf.loc[smalldf.Sex == \"female\"]\n",
    "femaledf.value_counts(subset='Survived', normalize=True)"
   ]
  },
  {
   "cell_type": "code",
   "execution_count": 8,
   "id": "318be822-26cf-40bf-adbd-7ebe64e9c470",
   "metadata": {},
   "outputs": [
    {
     "data": {
      "text/plain": [
       "Survived\n",
       "0    0.794702\n",
       "1    0.205298\n",
       "dtype: float64"
      ]
     },
     "execution_count": 8,
     "metadata": {},
     "output_type": "execute_result"
    }
   ],
   "source": [
    "maledf = smalldf.loc[smalldf.Sex == \"male\"]\n",
    "maledf.value_counts(subset='Survived', normalize=True)"
   ]
  },
  {
   "cell_type": "markdown",
   "id": "32bdb734-0433-4235-9840-5aa573527738",
   "metadata": {},
   "source": [
    "#### E(Survival, Sex)\n",
    "= P(female) * E(0.75, 0.25) + P(male) * E(0.79, 0,21)\n",
    "= (261/714) * 0.815 + (453/714) * 0.749\n",
    "= 0.77\n",
    "#### G(Survival, Sex)\n",
    "= E(Survival) - E(Survival, Sex)\n",
    "= 0.98 - 0.77\n",
    "= 0.21"
   ]
  },
  {
   "cell_type": "code",
   "execution_count": 9,
   "id": "9673da1d-35c4-482e-9e41-efffd2cc24d6",
   "metadata": {},
   "outputs": [
    {
     "data": {
      "text/plain": [
       "Pclass\n",
       "3    355\n",
       "1    186\n",
       "2    173\n",
       "dtype: int64"
      ]
     },
     "execution_count": 9,
     "metadata": {},
     "output_type": "execute_result"
    }
   ],
   "source": [
    "smalldf.value_counts(subset='Pclass')"
   ]
  },
  {
   "cell_type": "code",
   "execution_count": 10,
   "id": "04ada18c-94c2-4909-9668-96d8f7a5e63f",
   "metadata": {},
   "outputs": [
    {
     "data": {
      "text/plain": [
       "Survived\n",
       "1    0.655914\n",
       "0    0.344086\n",
       "dtype: float64"
      ]
     },
     "execution_count": 10,
     "metadata": {},
     "output_type": "execute_result"
    }
   ],
   "source": [
    "class1df = smalldf.loc[smalldf.Pclass == 1]\n",
    "class1df.value_counts(subset='Survived', normalize=True)"
   ]
  },
  {
   "cell_type": "code",
   "execution_count": 11,
   "id": "b9eb54e7-4951-4790-a65b-6dcbf250de92",
   "metadata": {},
   "outputs": [
    {
     "data": {
      "text/plain": [
       "Survived\n",
       "0    0.520231\n",
       "1    0.479769\n",
       "dtype: float64"
      ]
     },
     "execution_count": 11,
     "metadata": {},
     "output_type": "execute_result"
    }
   ],
   "source": [
    "class2df = smalldf.loc[smalldf.Pclass == 2]\n",
    "class2df.value_counts(subset='Survived', normalize=True)"
   ]
  },
  {
   "cell_type": "code",
   "execution_count": 12,
   "id": "7dd33516-c551-4ffb-a226-40b310aae661",
   "metadata": {},
   "outputs": [
    {
     "data": {
      "text/plain": [
       "Survived\n",
       "0    0.760563\n",
       "1    0.239437\n",
       "dtype: float64"
      ]
     },
     "execution_count": 12,
     "metadata": {},
     "output_type": "execute_result"
    }
   ],
   "source": [
    "class3df = smalldf.loc[smalldf.Pclass == 3]\n",
    "class3df.value_counts(subset='Survived', normalize=True)"
   ]
  },
  {
   "cell_type": "markdown",
   "id": "91002f83-c4bd-46de-ae75-36a877d3a654",
   "metadata": {},
   "source": [
    "#### E(Survival, Pclass)\n",
    "= P(Class1) * E(0.66, 0.34) + P(Class2) * E(0.52, 0.47) + P(Class3) * E(0.76, 0.24)\n",
    "= (186/714) * 0.92 + (173/714) * 1 + (355/714) * 0.8\n",
    "= 0.24 + 0.24 + 0.4\n",
    "= 0.88\n",
    "#### G(Survival, Pclass)\n",
    "= E(Survival) - E(Survival, Pclass)\n",
    "= 0.98 - 0.88\n",
    "= 0.1"
   ]
  },
  {
   "cell_type": "code",
   "execution_count": 13,
   "id": "35d4dd7e-3698-4f33-a6a1-08cd86cb8066",
   "metadata": {},
   "outputs": [
    {
     "data": {
      "text/plain": [
       "Age2\n",
       "Young          384\n",
       "Middle-Aged    256\n",
       "Old             74\n",
       "dtype: int64"
      ]
     },
     "execution_count": 13,
     "metadata": {},
     "output_type": "execute_result"
    }
   ],
   "source": [
    "smalldf.loc[smalldf.Age < 100, \"Age2\"] = \"Old\"\n",
    "smalldf.loc[smalldf.Age < 50, \"Age2\"] = \"Middle-Aged\"\n",
    "smalldf.loc[smalldf.Age < 30, \"Age2\"] = \"Young\"\n",
    "\n",
    "smalldf.value_counts(subset='Age2')"
   ]
  },
  {
   "cell_type": "code",
   "execution_count": 14,
   "id": "b434edea-d044-4f28-8176-067d15e6edfe",
   "metadata": {},
   "outputs": [
    {
     "data": {
      "text/plain": [
       "Survived\n",
       "0    0.59375\n",
       "1    0.40625\n",
       "dtype: float64"
      ]
     },
     "execution_count": 14,
     "metadata": {},
     "output_type": "execute_result"
    }
   ],
   "source": [
    "ydf = smalldf.loc[smalldf.Age2 == \"Young\"]\n",
    "ydf.value_counts(subset='Survived', normalize=True)"
   ]
  },
  {
   "cell_type": "code",
   "execution_count": 15,
   "id": "5d58a95f-99e4-4bc1-84cd-bd8656ec6531",
   "metadata": {},
   "outputs": [
    {
     "data": {
      "text/plain": [
       "Survived\n",
       "0    0.582031\n",
       "1    0.417969\n",
       "dtype: float64"
      ]
     },
     "execution_count": 15,
     "metadata": {},
     "output_type": "execute_result"
    }
   ],
   "source": [
    "mdf = smalldf.loc[smalldf.Age2 == \"Middle-Aged\"]\n",
    "mdf.value_counts(subset='Survived', normalize=True)"
   ]
  },
  {
   "cell_type": "code",
   "execution_count": 16,
   "id": "ebdef8f6-5e61-4829-a0ca-89bda8e6309d",
   "metadata": {},
   "outputs": [
    {
     "data": {
      "text/plain": [
       "Survived\n",
       "0    0.635135\n",
       "1    0.364865\n",
       "dtype: float64"
      ]
     },
     "execution_count": 16,
     "metadata": {},
     "output_type": "execute_result"
    }
   ],
   "source": [
    "odf = smalldf.loc[smalldf.Age2 == \"Old\"]\n",
    "odf.value_counts(subset='Survived', normalize=True)"
   ]
  },
  {
   "cell_type": "markdown",
   "id": "3d07cfbc-6477-4562-afb1-beabec668fdc",
   "metadata": {},
   "source": [
    "#### E(Survival, Age)\n",
    "= P(Young) * E(0.59, 0.41) + P(Middle-Aged) * E(0.58, 0.42) + P(Old) * E(0.64, 0.36)\n",
    "= (384/741) * 0,98 + (256/714) * 0.98 + (74/714) * 0.94\n",
    "= 0.53 + 0.35 + 0.1 = 0.98\n",
    "#### G(Survival, Age)\n",
    "= E(Survival) - E(Survival, Age)\n",
    "= 0.98 - 0.98\n",
    "= 0"
   ]
  },
  {
   "cell_type": "code",
   "execution_count": 17,
   "id": "f698cb38-d905-4f55-834f-aca556f7dce6",
   "metadata": {},
   "outputs": [
    {
     "data": {
      "text/plain": [
       "SibSp\n",
       "0    471\n",
       "1    183\n",
       "2     25\n",
       "4     18\n",
       "3     12\n",
       "5      5\n",
       "dtype: int64"
      ]
     },
     "execution_count": 17,
     "metadata": {},
     "output_type": "execute_result"
    }
   ],
   "source": [
    "smalldf.value_counts(subset='SibSp')"
   ]
  },
  {
   "cell_type": "code",
   "execution_count": 18,
   "id": "e034f55c-d211-47d9-87ad-e0ad82d758ef",
   "metadata": {},
   "outputs": [
    {
     "data": {
      "text/plain": [
       "SibSp2\n",
       "None    471\n",
       "One     183\n",
       "More     60\n",
       "dtype: int64"
      ]
     },
     "execution_count": 18,
     "metadata": {},
     "output_type": "execute_result"
    }
   ],
   "source": [
    "smalldf.loc[smalldf.SibSp == 0, \"SibSp2\"] = \"None\"\n",
    "smalldf.loc[smalldf.SibSp == 1, \"SibSp2\"] = \"One\"\n",
    "smalldf.loc[smalldf.SibSp > 1, \"SibSp2\"] = \"More\"\n",
    "\n",
    "smalldf.value_counts(subset='SibSp2')"
   ]
  },
  {
   "cell_type": "code",
   "execution_count": 19,
   "id": "0bdc6dab-b1c8-4e97-b107-ec13271a8c4d",
   "metadata": {},
   "outputs": [
    {
     "data": {
      "text/plain": [
       "Survived\n",
       "0    0.62845\n",
       "1    0.37155\n",
       "dtype: float64"
      ]
     },
     "execution_count": 19,
     "metadata": {},
     "output_type": "execute_result"
    }
   ],
   "source": [
    "noSibSpdf = smalldf.loc[smalldf.SibSp2 == \"None\"]\n",
    "noSibSpdf.value_counts(subset='Survived', normalize=True)"
   ]
  },
  {
   "cell_type": "code",
   "execution_count": 20,
   "id": "1b7beaf6-428d-4db4-918e-7642318c9fc4",
   "metadata": {},
   "outputs": [
    {
     "data": {
      "text/plain": [
       "Survived\n",
       "1    0.530055\n",
       "0    0.469945\n",
       "dtype: float64"
      ]
     },
     "execution_count": 20,
     "metadata": {},
     "output_type": "execute_result"
    }
   ],
   "source": [
    "oneSibSpdf = smalldf.loc[smalldf.SibSp2 == \"One\"]\n",
    "oneSibSpdf.value_counts(subset='Survived', normalize=True)"
   ]
  },
  {
   "cell_type": "code",
   "execution_count": 21,
   "id": "2c3664c7-06ad-49c6-9938-c6721fe2f145",
   "metadata": {},
   "outputs": [
    {
     "data": {
      "text/plain": [
       "Survived\n",
       "0    0.7\n",
       "1    0.3\n",
       "dtype: float64"
      ]
     },
     "execution_count": 21,
     "metadata": {},
     "output_type": "execute_result"
    }
   ],
   "source": [
    "moreSibSpdf = smalldf.loc[smalldf.SibSp2 == \"More\"]\n",
    "moreSibSpdf.value_counts(subset='Survived', normalize=True)"
   ]
  },
  {
   "cell_type": "markdown",
   "id": "fe02b2b8-1fb0-485f-bb3b-2ef508bbf3ca",
   "metadata": {},
   "source": [
    "#### E(Survival, SiblingsAndSpouses)\n",
    "= P(NoSiblingsOrSpouses) * E(0.63, 0.37) + P(OneSiblingOrSpouse) * E(0.53, 0.47) + P(MoreThanOneSiblingOrSpouse) * E(0.7 0.3)\n",
    "= (471/714) * 0.95 + (183/714) * 1 + (60/714) * 0.88\n",
    "= 0.63 + 0.26 + 0.07 = 0.96\n",
    "#### G(Survival, SiblingsAndSpouses)\n",
    "= E(Survival) - E(Survival, SiblingsAndSpouses)\n",
    "= 0.98 - 0.96\n",
    "= 0.02"
   ]
  },
  {
   "cell_type": "markdown",
   "id": "eeec7eea-93ca-4791-b25c-4468ebd78d62",
   "metadata": {},
   "source": [
    "#### The attribute with the biggest gain is Sex, so this would be the first split. If we stop here, our tree would ask: Are you a female? If yes: You will survive.\n",
    "\n",
    "#### Now for the Graphviz tree."
   ]
  },
  {
   "cell_type": "code",
   "execution_count": 34,
   "id": "cb320ebe-e648-4059-854a-93eb8b1e09e6",
   "metadata": {},
   "outputs": [
    {
     "data": {
      "text/plain": [
       "DecisionTreeClassifier(max_depth=2)"
      ]
     },
     "execution_count": 34,
     "metadata": {},
     "output_type": "execute_result"
    }
   ],
   "source": [
    "from sklearn import tree\n",
    "\n",
    "survivaldata = smalldf.Survived\n",
    "trainingdata = smalldf.drop(['Survived', 'Age2', 'SibSp2'], axis=1) #drop target column and my maths columns\n",
    "trainingdata['Sex'] = np.where((trainingdata['Sex'] == \"male\"), 1, 0) #convert sex to integer values\n",
    "\n",
    "X = trainingdata\n",
    "y = survivaldata\n",
    " \n",
    "tree_clf = tree.DecisionTreeClassifier(max_depth=2)\n",
    "tree_clf.fit(X, y)"
   ]
  },
  {
   "cell_type": "code",
   "execution_count": 35,
   "id": "5936e0df-87c1-4467-9780-84e191c6fde7",
   "metadata": {},
   "outputs": [
    {
     "data": {
      "text/plain": [
       "[Text(167.4, 181.2, 'X[1] <= 0.5\\ngini = 0.482\\nsamples = 714\\nvalue = [424, 290]'),\n",
       " Text(83.7, 108.72, 'X[0] <= 2.5\\ngini = 0.37\\nsamples = 261\\nvalue = [64, 197]'),\n",
       " Text(41.85, 36.23999999999998, 'gini = 0.107\\nsamples = 159\\nvalue = [9, 150]'),\n",
       " Text(125.55000000000001, 36.23999999999998, 'gini = 0.497\\nsamples = 102\\nvalue = [55, 47]'),\n",
       " Text(251.10000000000002, 108.72, 'X[2] <= 6.5\\ngini = 0.326\\nsamples = 453\\nvalue = [360, 93]'),\n",
       " Text(209.25, 36.23999999999998, 'gini = 0.444\\nsamples = 24\\nvalue = [8, 16]'),\n",
       " Text(292.95, 36.23999999999998, 'gini = 0.295\\nsamples = 429\\nvalue = [352, 77]')]"
      ]
     },
     "execution_count": 35,
     "metadata": {},
     "output_type": "execute_result"
    },
    {
     "data": {
      "image/png": "[encoded data removed]",
      "text/plain": [
       "<Figure size 432x288 with 1 Axes>"
      ]
     },
     "metadata": {
      "needs_background": "light"
     },
     "output_type": "display_data"
    }
   ],
   "source": [
    "tree.plot_tree(tree_clf)"
   ]
  },
  {
   "cell_type": "code",
   "execution_count": 36,
   "id": "f186c77a-5cf1-4aa6-80c3-36923265a7e2",
   "metadata": {},
   "outputs": [
    {
     "data": {
      "image/svg+xml": [
       "<?xml version=\"1.0\" encoding=\"UTF-8\" standalone=\"no\"?>\r\n",
       "<!DOCTYPE svg PUBLIC \"-//W3C//DTD SVG 1.1//EN\"\r\n",
       " \"http://www.w3.org/Graphics/SVG/1.1/DTD/svg11.dtd\">\r\n",
       "<!-- Generated by graphviz version 2.38.0 (20140413.2041)\r\n",
       " -->\r\n",
       "<!-- Title: Tree Pages: 1 -->\r\n",
       "<svg width=\"560pt\" height=\"314pt\"\r\n",
       " viewBox=\"0.00 0.00 560.00 314.00\" xmlns=\"http://www.w3.org/2000/svg\" xmlns:xlink=\"http://www.w3.org/1999/xlink\">\r\n",
       "<g id=\"graph0\" class=\"graph\" transform=\"scale(1 1) rotate(0) translate(4 310)\">\r\n",
       "<title>Tree</title>\r\n",
       "<polygon fill=\"white\" stroke=\"none\" points=\"-4,4 -4,-310 556,-310 556,4 -4,4\"/>\r\n",
       "<!-- 0 -->\r\n",
       "<g id=\"node1\" class=\"node\"><title>0</title>\r\n",
       "<path fill=\"#f7d7c0\" stroke=\"black\" d=\"M326,-306C326,-306 216,-306 216,-306 210,-306 204,-300 204,-294 204,-294 204,-235 204,-235 204,-229 210,-223 216,-223 216,-223 326,-223 326,-223 332,-223 338,-229 338,-235 338,-235 338,-294 338,-294 338,-300 332,-306 326,-306\"/>\r\n",
       "<text text-anchor=\"middle\" x=\"271\" y=\"-290.8\" font-family=\"Helvetica,sans-Serif\" font-size=\"14.00\">Sex &lt;= 0.5</text>\r\n",
       "<text text-anchor=\"middle\" x=\"271\" y=\"-275.8\" font-family=\"Helvetica,sans-Serif\" font-size=\"14.00\">gini = 0.482</text>\r\n",
       "<text text-anchor=\"middle\" x=\"271\" y=\"-260.8\" font-family=\"Helvetica,sans-Serif\" font-size=\"14.00\">samples = 714</text>\r\n",
       "<text text-anchor=\"middle\" x=\"271\" y=\"-245.8\" font-family=\"Helvetica,sans-Serif\" font-size=\"14.00\">value = [424, 290]</text>\r\n",
       "<text text-anchor=\"middle\" x=\"271\" y=\"-230.8\" font-family=\"Helvetica,sans-Serif\" font-size=\"14.00\">class = no Survival</text>\r\n",
       "</g>\r\n",
       "<!-- 1 -->\r\n",
       "<g id=\"node2\" class=\"node\"><title>1</title>\r\n",
       "<path fill=\"#79bded\" stroke=\"black\" d=\"M247,-187C247,-187 149,-187 149,-187 143,-187 137,-181 137,-175 137,-175 137,-116 137,-116 137,-110 143,-104 149,-104 149,-104 247,-104 247,-104 253,-104 259,-110 259,-116 259,-116 259,-175 259,-175 259,-181 253,-187 247,-187\"/>\r\n",
       "<text text-anchor=\"middle\" x=\"198\" y=\"-171.8\" font-family=\"Helvetica,sans-Serif\" font-size=\"14.00\">Pclass &lt;= 2.5</text>\r\n",
       "<text text-anchor=\"middle\" x=\"198\" y=\"-156.8\" font-family=\"Helvetica,sans-Serif\" font-size=\"14.00\">gini = 0.37</text>\r\n",
       "<text text-anchor=\"middle\" x=\"198\" y=\"-141.8\" font-family=\"Helvetica,sans-Serif\" font-size=\"14.00\">samples = 261</text>\r\n",
       "<text text-anchor=\"middle\" x=\"198\" y=\"-126.8\" font-family=\"Helvetica,sans-Serif\" font-size=\"14.00\">value = [64, 197]</text>\r\n",
       "<text text-anchor=\"middle\" x=\"198\" y=\"-111.8\" font-family=\"Helvetica,sans-Serif\" font-size=\"14.00\">class = Survival</text>\r\n",
       "</g>\r\n",
       "<!-- 0&#45;&gt;1 -->\r\n",
       "<g id=\"edge1\" class=\"edge\"><title>0&#45;&gt;1</title>\r\n",
       "<path fill=\"none\" stroke=\"black\" d=\"M245.673,-222.907C240.181,-214.105 234.315,-204.703 228.643,-195.612\"/>\r\n",
       "<polygon fill=\"black\" stroke=\"black\" points=\"231.545,-193.652 223.282,-187.021 225.606,-197.358 231.545,-193.652\"/>\r\n",
       "<text text-anchor=\"middle\" x=\"217.642\" y=\"-207.676\" font-family=\"Helvetica,sans-Serif\" font-size=\"14.00\">True</text>\r\n",
       "</g>\r\n",
       "<!-- 4 -->\r\n",
       "<g id=\"node5\" class=\"node\"><title>4</title>\r\n",
       "<path fill=\"#eca26c\" stroke=\"black\" d=\"M399,-187C399,-187 289,-187 289,-187 283,-187 277,-181 277,-175 277,-175 277,-116 277,-116 277,-110 283,-104 289,-104 289,-104 399,-104 399,-104 405,-104 411,-110 411,-116 411,-116 411,-175 411,-175 411,-181 405,-187 399,-187\"/>\r\n",
       "<text text-anchor=\"middle\" x=\"344\" y=\"-171.8\" font-family=\"Helvetica,sans-Serif\" font-size=\"14.00\">Age &lt;= 6.5</text>\r\n",
       "<text text-anchor=\"middle\" x=\"344\" y=\"-156.8\" font-family=\"Helvetica,sans-Serif\" font-size=\"14.00\">gini = 0.326</text>\r\n",
       "<text text-anchor=\"middle\" x=\"344\" y=\"-141.8\" font-family=\"Helvetica,sans-Serif\" font-size=\"14.00\">samples = 453</text>\r\n",
       "<text text-anchor=\"middle\" x=\"344\" y=\"-126.8\" font-family=\"Helvetica,sans-Serif\" font-size=\"14.00\">value = [360, 93]</text>\r\n",
       "<text text-anchor=\"middle\" x=\"344\" y=\"-111.8\" font-family=\"Helvetica,sans-Serif\" font-size=\"14.00\">class = no Survival</text>\r\n",
       "</g>\r\n",
       "<!-- 0&#45;&gt;4 -->\r\n",
       "<g id=\"edge4\" class=\"edge\"><title>0&#45;&gt;4</title>\r\n",
       "<path fill=\"none\" stroke=\"black\" d=\"M296.327,-222.907C301.819,-214.105 307.685,-204.703 313.357,-195.612\"/>\r\n",
       "<polygon fill=\"black\" stroke=\"black\" points=\"316.394,-197.358 318.718,-187.021 310.455,-193.652 316.394,-197.358\"/>\r\n",
       "<text text-anchor=\"middle\" x=\"324.358\" y=\"-207.676\" font-family=\"Helvetica,sans-Serif\" font-size=\"14.00\">False</text>\r\n",
       "</g>\r\n",
       "<!-- 2 -->\r\n",
       "<g id=\"node3\" class=\"node\"><title>2</title>\r\n",
       "<path fill=\"#45a3e7\" stroke=\"black\" d=\"M102,-68C102,-68 12,-68 12,-68 6,-68 0,-62 0,-56 0,-56 0,-12 0,-12 0,-6 6,-0 12,-0 12,-0 102,-0 102,-0 108,-0 114,-6 114,-12 114,-12 114,-56 114,-56 114,-62 108,-68 102,-68\"/>\r\n",
       "<text text-anchor=\"middle\" x=\"57\" y=\"-52.8\" font-family=\"Helvetica,sans-Serif\" font-size=\"14.00\">gini = 0.107</text>\r\n",
       "<text text-anchor=\"middle\" x=\"57\" y=\"-37.8\" font-family=\"Helvetica,sans-Serif\" font-size=\"14.00\">samples = 159</text>\r\n",
       "<text text-anchor=\"middle\" x=\"57\" y=\"-22.8\" font-family=\"Helvetica,sans-Serif\" font-size=\"14.00\">value = [9, 150]</text>\r\n",
       "<text text-anchor=\"middle\" x=\"57\" y=\"-7.8\" font-family=\"Helvetica,sans-Serif\" font-size=\"14.00\">class = Survival</text>\r\n",
       "</g>\r\n",
       "<!-- 1&#45;&gt;2 -->\r\n",
       "<g id=\"edge2\" class=\"edge\"><title>1&#45;&gt;2</title>\r\n",
       "<path fill=\"none\" stroke=\"black\" d=\"M145.497,-103.726C133.165,-94.1494 120.046,-83.9611 107.791,-74.4438\"/>\r\n",
       "<polygon fill=\"black\" stroke=\"black\" points=\"109.924,-71.6689 99.8789,-68.2996 105.63,-77.1975 109.924,-71.6689\"/>\r\n",
       "</g>\r\n",
       "<!-- 3 -->\r\n",
       "<g id=\"node4\" class=\"node\"><title>3</title>\r\n",
       "<path fill=\"#fbede2\" stroke=\"black\" d=\"M254,-68C254,-68 144,-68 144,-68 138,-68 132,-62 132,-56 132,-56 132,-12 132,-12 132,-6 138,-0 144,-0 144,-0 254,-0 254,-0 260,-0 266,-6 266,-12 266,-12 266,-56 266,-56 266,-62 260,-68 254,-68\"/>\r\n",
       "<text text-anchor=\"middle\" x=\"199\" y=\"-52.8\" font-family=\"Helvetica,sans-Serif\" font-size=\"14.00\">gini = 0.497</text>\r\n",
       "<text text-anchor=\"middle\" x=\"199\" y=\"-37.8\" font-family=\"Helvetica,sans-Serif\" font-size=\"14.00\">samples = 102</text>\r\n",
       "<text text-anchor=\"middle\" x=\"199\" y=\"-22.8\" font-family=\"Helvetica,sans-Serif\" font-size=\"14.00\">value = [55, 47]</text>\r\n",
       "<text text-anchor=\"middle\" x=\"199\" y=\"-7.8\" font-family=\"Helvetica,sans-Serif\" font-size=\"14.00\">class = no Survival</text>\r\n",
       "</g>\r\n",
       "<!-- 1&#45;&gt;3 -->\r\n",
       "<g id=\"edge3\" class=\"edge\"><title>1&#45;&gt;3</title>\r\n",
       "<path fill=\"none\" stroke=\"black\" d=\"M198.372,-103.726C198.447,-95.5175 198.526,-86.8595 198.602,-78.56\"/>\r\n",
       "<polygon fill=\"black\" stroke=\"black\" points=\"202.104,-78.3312 198.696,-68.2996 195.105,-78.2672 202.104,-78.3312\"/>\r\n",
       "</g>\r\n",
       "<!-- 5 -->\r\n",
       "<g id=\"node6\" class=\"node\"><title>5</title>\r\n",
       "<path fill=\"#9ccef2\" stroke=\"black\" d=\"M388,-68C388,-68 298,-68 298,-68 292,-68 286,-62 286,-56 286,-56 286,-12 286,-12 286,-6 292,-0 298,-0 298,-0 388,-0 388,-0 394,-0 400,-6 400,-12 400,-12 400,-56 400,-56 400,-62 394,-68 388,-68\"/>\r\n",
       "<text text-anchor=\"middle\" x=\"343\" y=\"-52.8\" font-family=\"Helvetica,sans-Serif\" font-size=\"14.00\">gini = 0.444</text>\r\n",
       "<text text-anchor=\"middle\" x=\"343\" y=\"-37.8\" font-family=\"Helvetica,sans-Serif\" font-size=\"14.00\">samples = 24</text>\r\n",
       "<text text-anchor=\"middle\" x=\"343\" y=\"-22.8\" font-family=\"Helvetica,sans-Serif\" font-size=\"14.00\">value = [8, 16]</text>\r\n",
       "<text text-anchor=\"middle\" x=\"343\" y=\"-7.8\" font-family=\"Helvetica,sans-Serif\" font-size=\"14.00\">class = Survival</text>\r\n",
       "</g>\r\n",
       "<!-- 4&#45;&gt;5 -->\r\n",
       "<g id=\"edge5\" class=\"edge\"><title>4&#45;&gt;5</title>\r\n",
       "<path fill=\"none\" stroke=\"black\" d=\"M343.628,-103.726C343.553,-95.5175 343.474,-86.8595 343.398,-78.56\"/>\r\n",
       "<polygon fill=\"black\" stroke=\"black\" points=\"346.895,-78.2672 343.304,-68.2996 339.896,-78.3312 346.895,-78.2672\"/>\r\n",
       "</g>\r\n",
       "<!-- 6 -->\r\n",
       "<g id=\"node7\" class=\"node\"><title>6</title>\r\n",
       "<path fill=\"#eb9d64\" stroke=\"black\" d=\"M540,-68C540,-68 430,-68 430,-68 424,-68 418,-62 418,-56 418,-56 418,-12 418,-12 418,-6 424,-0 430,-0 430,-0 540,-0 540,-0 546,-0 552,-6 552,-12 552,-12 552,-56 552,-56 552,-62 546,-68 540,-68\"/>\r\n",
       "<text text-anchor=\"middle\" x=\"485\" y=\"-52.8\" font-family=\"Helvetica,sans-Serif\" font-size=\"14.00\">gini = 0.295</text>\r\n",
       "<text text-anchor=\"middle\" x=\"485\" y=\"-37.8\" font-family=\"Helvetica,sans-Serif\" font-size=\"14.00\">samples = 429</text>\r\n",
       "<text text-anchor=\"middle\" x=\"485\" y=\"-22.8\" font-family=\"Helvetica,sans-Serif\" font-size=\"14.00\">value = [352, 77]</text>\r\n",
       "<text text-anchor=\"middle\" x=\"485\" y=\"-7.8\" font-family=\"Helvetica,sans-Serif\" font-size=\"14.00\">class = no Survival</text>\r\n",
       "</g>\r\n",
       "<!-- 4&#45;&gt;6 -->\r\n",
       "<g id=\"edge6\" class=\"edge\"><title>4&#45;&gt;6</title>\r\n",
       "<path fill=\"none\" stroke=\"black\" d=\"M396.503,-103.726C408.835,-94.1494 421.954,-83.9611 434.209,-74.4438\"/>\r\n",
       "<polygon fill=\"black\" stroke=\"black\" points=\"436.37,-77.1975 442.121,-68.2996 432.076,-71.6689 436.37,-77.1975\"/>\r\n",
       "</g>\r\n",
       "</g>\r\n",
       "</svg>\r\n"
      ],
      "text/plain": [
       "<graphviz.files.Source at 0x1e7299ad0d0>"
      ]
     },
     "execution_count": 36,
     "metadata": {},
     "output_type": "execute_result"
    }
   ],
   "source": [
    "import graphviz\n",
    "\n",
    "class_names = [\"no Survival\", \"Survival\"]\n",
    "\n",
    "dotdata = tree.export_graphviz(tree_clf,\n",
    "                          feature_names=trainingdata.columns,\n",
    "                          class_names=class_names,\n",
    "                          rounded=True,\n",
    "                          filled=True\n",
    ")\n",
    "\n",
    "graph = graphviz.Source(dotdata)\n",
    "graph"
   ]
  },
  {
   "cell_type": "markdown",
   "id": "4b93b12a-5767-4ff4-99ac-2b76f51dae4f",
   "metadata": {},
   "source": [
    "#### The Graphviz Tree also picked Sex as the first attribute in the tree and it also indicates, that if you are a woman you might survive.\n",
    "#### Since SciKit-Learn splits the tree binarily every time, the overall result for the tree would differ from the one I would have calculated by hand. My PassengerClass and Age and SiblingsAndSpouses attribute are all three-way attributes, that would be exressed binarily in SciKit. Nonetheless, SciKit-Learn can manage the floating values of Age and SiblingsAndSpouses much better than my three-way classification system, which I added because I was too lazy to calculate the entropy for all the different values. :)"
   ]
  },
  {
   "cell_type": "code",
   "execution_count": null,
   "id": "14963fbf-e229-46d8-b8dd-aab1e6d04817",
   "metadata": {},
   "outputs": [],
   "source": []
  }
 ],
 "metadata": {
  "kernelspec": {
   "display_name": "Python 3",
   "language": "python",
   "name": "python3"
  },
  "language_info": {
   "codemirror_mode": {
    "name": "ipython",
    "version": 3
   },
   "file_extension": ".py",
   "mimetype": "text/x-python",
   "name": "python",
   "nbconvert_exporter": "python",
   "pygments_lexer": "ipython3",
   "version": "3.8.8"
  }
 },
 "nbformat": 4,
 "nbformat_minor": 5
}
